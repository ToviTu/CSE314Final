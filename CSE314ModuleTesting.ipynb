{
 "cells": [
  {
   "cell_type": "code",
   "execution_count": 3,
   "id": "f8451c3d",
   "metadata": {},
   "outputs": [],
   "source": [
    "import plotly.express as px\n",
    "from dash import dcc\n",
    "from dash import html\n",
    "from dash.dependencies import Input, Output\n",
    "import pandas as pd\n",
    "import numpy as np\n",
    "import glob\n",
    "import json"
   ]
  },
  {
   "cell_type": "code",
   "execution_count": 4,
   "id": "aea260b3",
   "metadata": {},
   "outputs": [
    {
     "name": "stdout",
     "output_type": "stream",
     "text": [
      "The autoreload extension is already loaded. To reload it, use:\n",
      "  %reload_ext autoreload\n"
     ]
    }
   ],
   "source": [
    "%load_ext autoreload\n",
    "%autoreload 2\n",
    "\n",
    "import RDlite.accessor as ac"
   ]
  },
  {
   "cell_type": "code",
   "execution_count": 5,
   "id": "a520a2bf",
   "metadata": {},
   "outputs": [],
   "source": [
    "from RDlite import all_features"
   ]
  },
  {
   "cell_type": "code",
   "execution_count": 6,
   "id": "650f4c54",
   "metadata": {},
   "outputs": [
    {
     "data": {
      "text/plain": [
       "['company',\n",
       " 'collection',\n",
       " 'genre',\n",
       " 'keyword',\n",
       " 'rating',\n",
       " 'language',\n",
       " 'country',\n",
       " 'name',\n",
       " 'character',\n",
       " 'gender',\n",
       " 'movie',\n",
       " 'adult',\n",
       " 'budget',\n",
       " 'original_language',\n",
       " 'original_title',\n",
       " 'overview',\n",
       " 'popularity',\n",
       " 'release_date',\n",
       " 'revenue',\n",
       " 'runtime',\n",
       " 'status',\n",
       " 'video',\n",
       " 'vote_average',\n",
       " 'vote_count']"
      ]
     },
     "execution_count": 6,
     "metadata": {},
     "output_type": "execute_result"
    }
   ],
   "source": [
    "all_features"
   ]
  },
  {
   "cell_type": "code",
   "execution_count": 15,
   "id": "146f83e5",
   "metadata": {
    "scrolled": false
   },
   "outputs": [
    {
     "data": {
      "text/plain": [
       "Index(['keyword', 'genre', 'language', 'adult', 'budget', 'imdb_id',\n",
       "       'original_language', 'original_title', 'overview', 'popularity',\n",
       "       'poster_path', 'release_date', 'revenue', 'runtime', 'status', 'title',\n",
       "       'video', 'vote_average', 'vote_count', 'country', 'company', 'rating',\n",
       "       'collection', 'name', 'character', 'gender'],\n",
       "      dtype='object')"
      ]
     },
     "execution_count": 15,
     "metadata": {},
     "output_type": "execute_result"
    }
   ],
   "source": [
    "ac.agg(*all_features, peek=True).columns"
   ]
  },
  {
   "cell_type": "code",
   "execution_count": null,
   "id": "7b6766e0",
   "metadata": {},
   "outputs": [],
   "source": []
  }
 ],
 "metadata": {
  "kernelspec": {
   "display_name": "Python 3 (ipykernel)",
   "language": "python",
   "name": "python3"
  },
  "language_info": {
   "codemirror_mode": {
    "name": "ipython",
    "version": 3
   },
   "file_extension": ".py",
   "mimetype": "text/x-python",
   "name": "python",
   "nbconvert_exporter": "python",
   "pygments_lexer": "ipython3",
   "version": "3.10.6"
  }
 },
 "nbformat": 4,
 "nbformat_minor": 5
}
